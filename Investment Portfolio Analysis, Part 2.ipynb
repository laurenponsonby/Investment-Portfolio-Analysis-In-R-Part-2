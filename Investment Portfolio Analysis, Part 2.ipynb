{
 "cells": [
  {
   "cell_type": "markdown",
   "metadata": {},
   "source": [
    "## Investment Portfolio Analysis, Part 2\n",
    "### 3.5. Assets and Market Relationship (Systematic Risk)"
   ]
  },
  {
   "cell_type": "code",
   "execution_count": 3,
   "metadata": {},
   "outputs": [
    {
     "data": {
      "text/plain": [
       "            mcash   mbonds  msbonds  mlbonds  mibonds  mstocks mlstocks\n",
       "2007-01-31 109.00 7.160662 8.528708 6.476980 7.589386 29.04660 109.4419\n",
       "2007-02-28 109.12 7.268778 8.608584 6.666734 7.758039 28.57824 107.2868\n",
       "2007-03-31 109.28 7.270352 8.632868 6.591707 7.782285 28.89504 108.4799\n",
       "2007-04-30 109.40 7.307607 8.673239 6.648708 7.870720 30.05387 113.2724\n",
       "2007-05-31 109.58 7.250820 8.638874 6.520618 7.730698 31.16231 117.2110\n",
       "2007-06-30 109.64 7.223215 8.670263 6.463231 7.689753 30.64043 115.2484\n",
       "           msstocks mgstocks mvstocks mistocks mdstocks mestocks  moil mgold\n",
       "2007-01-31 29.46211 17.77470 14.38522 13.79684 33.95412 19.32504 48.24 64.83\n",
       "2007-02-28 29.42683 17.84074 14.30250 13.80458 34.06837 19.07677 51.18 66.48\n",
       "2007-03-31 29.78501 18.16343 14.38777 14.19126 35.01281 19.86162 53.35 65.74\n",
       "2007-04-30 30.57905 18.80505 14.65268 14.74808 36.38494 20.70254 51.24 67.09\n",
       "2007-05-31 31.92890 19.76747 15.19077 15.20437 37.19434 21.93588 48.96 65.54\n",
       "2007-06-30 31.41719 19.62594 14.80997 15.29717 37.22488 22.92095 53.00 64.27\n",
       "           mreit  musd mvixi  mmom msprem msize mstyle mrisk    mcpi mparity\n",
       "2007-01-31 91.40 24.94 10.42  0.24   1.40  0.10  -0.13  0.44 203.437 1200.17\n",
       "2007-02-28 88.13 24.94 15.42 -1.33  -1.96  1.32  -0.10  0.38 204.226 1183.12\n",
       "2007-03-31 85.24 24.79 14.64  2.47   0.68 -0.06  -0.23  0.43 205.288 1190.67\n",
       "2007-04-30 85.49 24.49 14.22 -0.16   3.49 -2.07  -1.15  0.44 205.904 1208.87\n",
       "2007-05-31 85.62 24.92 13.05 -0.27   3.24 -0.01  -0.07  0.41 206.755 1250.20\n",
       "2007-06-30 77.42 24.88 16.23  0.30  -1.96  0.79  -1.11  0.40 207.234 1237.49\n",
       "            mtail    mhedge mlstocks2x misprem\n",
       "2007-01-31 110.55 1.2825859   37.42465    0.61\n",
       "2007-02-28 108.39 0.6866376   38.02539    0.56\n",
       "2007-03-31 109.60 0.7748878   41.40110    2.49\n",
       "2007-04-30 114.46 1.9260583   43.95382    3.75\n",
       "2007-05-31 118.45 2.1490649   42.17317    1.92\n",
       "2007-06-30 116.47 1.1632484   39.31936    0.01"
      ]
     },
     "metadata": {},
     "output_type": "display_data"
    }
   ],
   "source": [
    "#Load Packages\n",
    "\n",
    "# 1.1. Load R packages \n",
    "library(\"tseries\")\n",
    "library(\"quantmod\")\n",
    "library(\"Quandl\")\n",
    "library(\"PortfolioAnalytics\")\n",
    "library(\"DEoptim\")\n",
    "\n",
    "# 1.2. Data Reading\n",
    "data <- read.csv(\"Investment-Portfolio-Analysis-Data.txt\",header=T)\n",
    "data <- xts(data[,2:30],order.by=as.Date(data[,1]))\n",
    "head(data)"
   ]
  },
  {
   "cell_type": "code",
   "execution_count": 5,
   "metadata": {},
   "outputs": [],
   "source": [
    "#  U.S. Total Money Market\n",
    "cash <- data[,1]\n",
    "mcash <- monthlyReturn(cash,type=\"arithmetic\") ##create monthly return column\n",
    "colnames(mcash) <- \"mcash\"\n",
    "# U.S. Total Bond Market\n",
    "bonds <- data[,2]\n",
    "mbonds <- monthlyReturn(bonds,type=\"arithmetic\")       ##create monthly return column\n",
    "colnames(mbonds) <- \"mbonds\"\n",
    "\n",
    "# U.S. Short Term Bond Market \n",
    "sbonds <- data[,3]\n",
    "msbonds <- monthlyReturn(sbonds,type=\"arithmetic\")     ##create monthly return column\n",
    "colnames(msbonds) <- \"msbonds\"\n",
    "\n",
    "# U.S. Long Term Bond Market \n",
    "lbonds <- data[,4]\n",
    "mlbonds <- monthlyReturn(lbonds,type=\"arithmetic\")    ##create monthly return column\n",
    "colnames(mlbonds) <- \"mlbonds\"\n",
    "\n",
    "# International Total Bond Market \n",
    "ibonds <- data[,5]\n",
    "mibonds <- monthlyReturn(ibonds,type=\"arithmetic\")    ##create monthly return column\n",
    "colnames(mibonds) <- \"mibonds\"\n",
    "# U.S. Total Stock Market\n",
    "stocks <- data[,6]\n",
    "mstocks <- monthlyReturn(stocks,type=\"arithmetic\")   ##create monthly return column\n",
    "colnames(mstocks) <- \"mstocks\"\n",
    "\n",
    "# U.S. Large Cap Stock Market\n",
    "lstocks <- data[,7]\n",
    "mlstocks <- monthlyReturn(lstocks,type=\"arithmetic\")    ##create monthly return column\n",
    "colnames(mlstocks) <- \"mlstocks\"\n",
    "\n",
    "# U.S. Small Cap Stock Market \n",
    "sstocks <- data[,8]\n",
    "msstocks <- monthlyReturn(sstocks,type=\"arithmetic\")    ##create monthly return column\n",
    "colnames(msstocks) <- \"msstocks\"\n",
    "\n",
    "#  U.S. Small Cap Growth Stock Market\n",
    "gstocks <- data[,9]\n",
    "mgstocks <- monthlyReturn(gstocks,type=\"arithmetic\")    ##create monthly return column\n",
    "colnames(mgstocks) <- \"mgstocks\"\n",
    "\n",
    "# U.S. Small Cap Value Stock Market \n",
    "vstocks <- data[,10]\n",
    "mvstocks <- monthlyReturn(vstocks,type=\"arithmetic\")    ##create monthly return column\n",
    "colnames(mvstocks) <- \"mvstocks\"\n",
    "\n",
    "# International Total Stock Market\n",
    "istocks <- data[,11]\n",
    "mistocks <- monthlyReturn(istocks,type=\"arithmetic\")     ##create monthly return column\n",
    "colnames(mistocks) <- \"mistocks\"\n",
    "\n",
    "#  International Developed Stock Market \n",
    "dstocks <- data[,12]\n",
    "mdstocks <- monthlyReturn(dstocks,type=\"arithmetic\")    ##create monthly return column\n",
    "colnames(mdstocks) <- \"mdstocks\"\n",
    "\n",
    "# International Emerging Stock Market \n",
    "estocks <- data[,13]\n",
    "mestocks <- monthlyReturn(estocks,type=\"arithmetic\")    ##create monthly return column\n",
    "colnames(mestocks) <- \"mestocks\"\n",
    "#  United States Oil Fund\n",
    "oil <- data[,14]\n",
    "moil <- monthlyReturn(oil,type=\"arithmetic\")\n",
    "colnames(moil) <- \"moil\"\n",
    "\n",
    "# U.S. Real Estate Investment Trust\n",
    "reit <- data[,16]\n",
    "mreit <- monthlyReturn(reit,type=\"arithmetic\")     #REIT shouldn't be here, but it is\n",
    "colnames(mreit) <- \"mreit\"\n",
    "\n",
    "\n",
    "# USD Major Currencies Index \n",
    "usd <- data[,17]\n",
    "musd <- monthlyReturn(usd,type=\"arithmetic\")   #Currency shouldn't be here, but it is\n",
    "colnames(musd) <- \"musd\"\n",
    "\n",
    "\n",
    "#  Gold Shares\n",
    "gold <- data[,15]\n",
    "mgold <- monthlyReturn(gold,type=\"arithmetic\")\n",
    "colnames(mgold) <- \"mgold\""
   ]
  },
  {
   "cell_type": "code",
   "execution_count": 6,
   "metadata": {},
   "outputs": [],
   "source": [
    "# Assets Pricing Models Data\n",
    "cpi <- data[,24]\n",
    "mcpi <- monthlyReturn(cpi)\n",
    "colnames(mcpi) <- \"mcpi\"\n",
    "mmom <- data[,19]/100\n",
    "msprem <- data[,20]/100\n",
    "msize <- data[,21]/100\n",
    "mstyle <- data[,22]/100\n",
    "mrisk <- data[,23]/100\n",
    "mlsprem <- mlstocks-mrisk"
   ]
  },
  {
   "cell_type": "markdown",
   "metadata": {},
   "source": [
    "#### 1. Capital Asset Pricing Model CAPM "
   ]
  },
  {
   "cell_type": "code",
   "execution_count": 7,
   "metadata": {},
   "outputs": [
    {
     "data": {
      "text/plain": [
       "\n",
       "Call:\n",
       "lm(formula = mlsprem ~ msprem)\n",
       "\n",
       "Residuals:\n",
       "       Min         1Q     Median         3Q        Max \n",
       "-0.0175619 -0.0022127 -0.0000378  0.0029174  0.0095260 \n",
       "\n",
       "Coefficients:\n",
       "              Estimate Std. Error t value Pr(>|t|)    \n",
       "(Intercept) -0.0004392  0.0003776  -1.163    0.247    \n",
       "msprem       0.9715098  0.0082807 117.322   <2e-16 ***\n",
       "---\n",
       "Signif. codes:  0 '***' 0.001 '**' 0.01 '*' 0.05 '.' 0.1 ' ' 1\n",
       "\n",
       "Residual standard error: 0.004096 on 118 degrees of freedom\n",
       "Multiple R-squared:  0.9915,\tAdjusted R-squared:  0.9914 \n",
       "F-statistic: 1.376e+04 on 1 and 118 DF,  p-value: < 2.2e-16\n"
      ]
     },
     "metadata": {},
     "output_type": "display_data"
    },
    {
     "data": {
      "text/html": [
       "0.971509806160668"
      ],
      "text/latex": [
       "0.971509806160668"
      ],
      "text/markdown": [
       "0.971509806160668"
      ],
      "text/plain": [
       "[1] 0.9715098"
      ]
     },
     "metadata": {},
     "output_type": "display_data"
    },
    {
     "data": {
      "text/html": [
       "-0.000439218036655083"
      ],
      "text/latex": [
       "-0.000439218036655083"
      ],
      "text/markdown": [
       "-0.000439218036655083"
      ],
      "text/plain": [
       "[1] -0.000439218"
      ]
     },
     "metadata": {},
     "output_type": "display_data"
    },
    {
     "data": {
      "text/html": [
       "0.00672813522664591"
      ],
      "text/latex": [
       "0.00672813522664591"
      ],
      "text/markdown": [
       "0.00672813522664591"
      ],
      "text/plain": [
       "[1] 0.006728135"
      ]
     },
     "metadata": {},
     "output_type": "display_data"
    },
    {
     "data": {
      "text/html": [
       "0.00409574923531247"
      ],
      "text/latex": [
       "0.00409574923531247"
      ],
      "text/markdown": [
       "0.00409574923531247"
      ],
      "text/plain": [
       "[1] 0.004095749"
      ]
     },
     "metadata": {},
     "output_type": "display_data"
    }
   ],
   "source": [
    "# CAPM Regression\n",
    "mregc <- lm(mlsprem~msprem)\n",
    "summary(mregc)\n",
    "\n",
    "# CAPM Beta Coefficient\n",
    "mbcapm <- CAPM.beta(Ra=mlstocks,Rb=msprem+mrisk,Rf=mrisk)\n",
    "mbcapm\n",
    "\n",
    "\n",
    "# CAPM Jensen's Alpha Intercept\n",
    "macapm <- CAPM.alpha(Ra=mlstocks,Rb=msprem+mrisk,Rf=mrisk)\n",
    "macapm\n",
    "\n",
    "\n",
    "# CAPM Expected Returns\n",
    "mcapm <- mean(mrisk)+mbcapm*(mean(msprem))\n",
    "mcapm\n",
    "\n",
    "# CAPM Residual Variance (Unsystematic Risk)\n",
    "mresvarc <- summary(mregc)$sigma\n",
    "mresvarc"
   ]
  },
  {
   "cell_type": "markdown",
   "metadata": {},
   "source": [
    "#### 2. Fama-French-Carhart Factor Models"
   ]
  },
  {
   "cell_type": "code",
   "execution_count": 8,
   "metadata": {},
   "outputs": [
    {
     "data": {
      "text/plain": [
       "\n",
       "Call:\n",
       "lm(formula = mlsprem ~ mfactf)\n",
       "\n",
       "Residuals:\n",
       "       Min         1Q     Median         3Q        Max \n",
       "-0.0178214 -0.0011303  0.0003132  0.0014670  0.0058944 \n",
       "\n",
       "Coefficients:\n",
       "               Estimate Std. Error t value Pr(>|t|)    \n",
       "(Intercept)  -0.0004045  0.0002475  -1.634    0.105    \n",
       "mfactfmsprem  0.9982006  0.0062669 159.281   <2e-16 ***\n",
       "mfactfmsize  -0.1472935  0.0116062 -12.691   <2e-16 ***\n",
       "mfactfmstyle  0.0065011  0.0101731   0.639    0.524    \n",
       "mfactfmmom    0.0028512  0.0056287   0.507    0.613    \n",
       "---\n",
       "Signif. codes:  0 '***' 0.001 '**' 0.01 '*' 0.05 '.' 0.1 ' ' 1\n",
       "\n",
       "Residual standard error: 0.002676 on 115 degrees of freedom\n",
       "Multiple R-squared:  0.9965,\tAdjusted R-squared:  0.9963 \n",
       "F-statistic:  8100 on 4 and 115 DF,  p-value: < 2.2e-16\n"
      ]
     },
     "metadata": {},
     "output_type": "display_data"
    },
    {
     "data": {
      "text/html": [
       "<table>\n",
       "<thead><tr><th scope=col>msprembf</th><th scope=col>msizeb</th><th scope=col>mstyleb</th><th scope=col>mmomb</th></tr></thead>\n",
       "<tbody>\n",
       "\t<tr><td>0.9982006  </td><td>-0.1472935 </td><td>0.006501062</td><td>0.002851229</td></tr>\n",
       "</tbody>\n",
       "</table>\n"
      ],
      "text/latex": [
       "\\begin{tabular}{llll}\n",
       " msprembf & msizeb & mstyleb & mmomb\\\\\n",
       "\\hline\n",
       "\t 0.9982006   & -0.1472935  & 0.006501062 & 0.002851229\\\\\n",
       "\\end{tabular}\n"
      ],
      "text/markdown": [
       "\n",
       "| msprembf | msizeb | mstyleb | mmomb |\n",
       "|---|---|---|---|\n",
       "| 0.9982006   | -0.1472935  | 0.006501062 | 0.002851229 |\n",
       "\n"
      ],
      "text/plain": [
       "     msprembf  msizeb     mstyleb     mmomb      \n",
       "[1,] 0.9982006 -0.1472935 0.006501062 0.002851229"
      ]
     },
     "metadata": {},
     "output_type": "display_data"
    },
    {
     "data": {
      "text/html": [
       "-0.000404521560323346"
      ],
      "text/latex": [
       "-0.000404521560323346"
      ],
      "text/markdown": [
       "-0.000404521560323346"
      ],
      "text/plain": [
       "[1] -0.0004045216"
      ]
     },
     "metadata": {},
     "output_type": "display_data"
    },
    {
     "data": {
      "text/html": [
       "0.00628891718999083"
      ],
      "text/latex": [
       "0.00628891718999083"
      ],
      "text/markdown": [
       "0.00628891718999083"
      ],
      "text/plain": [
       "[1] 0.006288917"
      ]
     },
     "metadata": {},
     "output_type": "display_data"
    },
    {
     "data": {
      "text/html": [
       "0.00267619122616639"
      ],
      "text/latex": [
       "0.00267619122616639"
      ],
      "text/markdown": [
       "0.00267619122616639"
      ],
      "text/plain": [
       "[1] 0.002676191"
      ]
     },
     "metadata": {},
     "output_type": "display_data"
    }
   ],
   "source": [
    "# Fama-French-Carhart Regression\n",
    "mfactf <- cbind(msprem,msize,mstyle,mmom) \n",
    "mregf <- lm(mlsprem~mfactf)\n",
    "summary(mregf)\n",
    "\n",
    "# Fama-French-Carhart Beta Coefficients\n",
    "msprembf <- summary(mregf)$coefficients[2]\n",
    "msizeb <- summary(mregf)$coefficients[3]\n",
    "mstyleb <- summary(mregf)$coefficients[4]\n",
    "mmomb <- summary(mregf)$coefficients[5]\n",
    "mbffc <- cbind(msprembf,msizeb,mstyleb,mmomb)\n",
    "mbffc\n",
    "\n",
    "# Fama-French-Carhart Alpha Intercept\n",
    "maffc <- summary(mregf)$coefficients[1]\n",
    "maffc\n",
    "\n",
    "# Fama-French-Carhart Expected Returns\n",
    "mffc <- mean(mrisk)+maffc+msprembf*mean(msprem)+msizeb*mean(msize)+mstyleb*mean(mstyle)+mmomb*mean(mmom) \n",
    "mffc\n",
    "\n",
    "# Fama-French-Carhart Residual Variance (Unsystematic Risk)\n",
    "mresvarf <- summary(mregf)$sigma\n",
    "mresvarf"
   ]
  },
  {
   "cell_type": "markdown",
   "metadata": {},
   "source": [
    "#### 3. Arbitrage Pricing Theory Model APT"
   ]
  },
  {
   "cell_type": "code",
   "execution_count": 9,
   "metadata": {},
   "outputs": [
    {
     "data": {
      "text/plain": [
       "\n",
       "Call:\n",
       "lm(formula = mlsprem ~ mfacta)\n",
       "\n",
       "Residuals:\n",
       "       Min         1Q     Median         3Q        Max \n",
       "-0.0177277 -0.0022935 -0.0000504  0.0028616  0.0095993 \n",
       "\n",
       "Coefficients:\n",
       "               Estimate Std. Error t value Pr(>|t|)    \n",
       "(Intercept)  -0.0002876  0.0004140  -0.695    0.489    \n",
       "mfactamsprem  0.9725203  0.0083639 116.276   <2e-16 ***\n",
       "mfactamcpi   -0.1067524  0.1190484  -0.897    0.372    \n",
       "---\n",
       "Signif. codes:  0 '***' 0.001 '**' 0.01 '*' 0.05 '.' 0.1 ' ' 1\n",
       "\n",
       "Residual standard error: 0.004099 on 117 degrees of freedom\n",
       "Multiple R-squared:  0.9916,\tAdjusted R-squared:  0.9914 \n",
       "F-statistic:  6871 on 2 and 117 DF,  p-value: < 2.2e-16\n"
      ]
     },
     "metadata": {},
     "output_type": "display_data"
    },
    {
     "data": {
      "text/html": [
       "<table>\n",
       "<thead><tr><th></th><th scope=col>mspremba</th><th scope=col>mcpib</th></tr></thead>\n",
       "<tbody>\n",
       "\t<tr><th scope=row>mfactamsprem</th><td>0.9725203 </td><td>-0.1067524</td></tr>\n",
       "</tbody>\n",
       "</table>\n"
      ],
      "text/latex": [
       "\\begin{tabular}{r|ll}\n",
       "  & mspremba & mcpib\\\\\n",
       "\\hline\n",
       "\tmfactamsprem & 0.9725203  & -0.1067524\\\\\n",
       "\\end{tabular}\n"
      ],
      "text/markdown": [
       "\n",
       "| <!--/--> | mspremba | mcpib |\n",
       "|---|---|---|\n",
       "| mfactamsprem | 0.9725203  | -0.1067524 |\n",
       "\n"
      ],
      "text/plain": [
       "             mspremba  mcpib     \n",
       "mfactamsprem 0.9725203 -0.1067524"
      ]
     },
     "metadata": {},
     "output_type": "display_data"
    },
    {
     "data": {
      "text/html": [
       "<strong>(Intercept):</strong> -0.000287552729337624"
      ],
      "text/latex": [
       "\\textbf{(Intercept):} -0.000287552729337624"
      ],
      "text/markdown": [
       "**(Intercept):** -0.000287552729337624"
      ],
      "text/plain": [
       "  (Intercept) \n",
       "-0.0002875527 "
      ]
     },
     "metadata": {},
     "output_type": "display_data"
    },
    {
     "data": {
      "text/html": [
       "<strong>mapt:</strong> 0.00628891718999083"
      ],
      "text/latex": [
       "\\textbf{mapt:} 0.00628891718999083"
      ],
      "text/markdown": [
       "**mapt:** 0.00628891718999083"
      ],
      "text/plain": [
       "       mapt \n",
       "0.006288917 "
      ]
     },
     "metadata": {},
     "output_type": "display_data"
    },
    {
     "data": {
      "text/html": [
       "0.00409915333793193"
      ],
      "text/latex": [
       "0.00409915333793193"
      ],
      "text/markdown": [
       "0.00409915333793193"
      ],
      "text/plain": [
       "[1] 0.004099153"
      ]
     },
     "metadata": {},
     "output_type": "display_data"
    }
   ],
   "source": [
    "# Arbitrage Pricing Theory Regression\n",
    "mfacta <- cbind(msprem,mcpi) \n",
    "mrega <- lm(mlsprem~mfacta)\n",
    "summary(mrega)\n",
    "\n",
    "# Arbitrage Pricing Theory Coefficients\n",
    "mspremba <- mrega$coefficients[2]\n",
    "mcpib <- mrega$coefficients[3]\n",
    "mbapt <- cbind(mspremba,mcpib)\n",
    "mbapt\n",
    "\n",
    "# Arbitrage Pricing Theory Alpha Intercept\n",
    "maapt <- mrega$coefficients[1]\n",
    "maapt\n",
    "\n",
    "# Arbitrage Pricing Theory Expected Returns\n",
    "mapt <- mean(mrisk)+maapt+mspremba*mean(msprem)+mcpib*mean(mcpi) \n",
    "names(mapt) <- \"mapt\"\n",
    "mapt\n",
    "\n",
    "# Arbitrage Pricing Theory Residual Variance (Unsystematic Risk)\n",
    "mresvara <- summary(mrega)$sigma\n",
    "mresvara"
   ]
  },
  {
   "cell_type": "code",
   "execution_count": 12,
   "metadata": {},
   "outputs": [
    {
     "data": {
      "text/html": [
       "<table>\n",
       "<thead><tr><th></th><th scope=col>macapm</th><th scope=col>maffc</th><th scope=col>maapt</th></tr></thead>\n",
       "<tbody>\n",
       "\t<tr><th scope=row>(Intercept)</th><td>-0.000439218 </td><td>-0.0004045216</td><td>-0.0002875527</td></tr>\n",
       "</tbody>\n",
       "</table>\n"
      ],
      "text/latex": [
       "\\begin{tabular}{r|lll}\n",
       "  & macapm & maffc & maapt\\\\\n",
       "\\hline\n",
       "\t(Intercept) & -0.000439218  & -0.0004045216 & -0.0002875527\\\\\n",
       "\\end{tabular}\n"
      ],
      "text/markdown": [
       "\n",
       "| <!--/--> | macapm | maffc | maapt |\n",
       "|---|---|---|---|\n",
       "| (Intercept) | -0.000439218  | -0.0004045216 | -0.0002875527 |\n",
       "\n"
      ],
      "text/plain": [
       "            macapm       maffc         maapt        \n",
       "(Intercept) -0.000439218 -0.0004045216 -0.0002875527"
      ]
     },
     "metadata": {},
     "output_type": "display_data"
    },
    {
     "data": {
      "text/html": [
       "<table>\n",
       "<thead><tr><th scope=col>mresvarc</th><th scope=col>mresvarf</th><th scope=col>mresvara</th></tr></thead>\n",
       "<tbody>\n",
       "\t<tr><td>0.004095749</td><td>0.002676191</td><td>0.004099153</td></tr>\n",
       "</tbody>\n",
       "</table>\n"
      ],
      "text/latex": [
       "\\begin{tabular}{lll}\n",
       " mresvarc & mresvarf & mresvara\\\\\n",
       "\\hline\n",
       "\t 0.004095749 & 0.002676191 & 0.004099153\\\\\n",
       "\\end{tabular}\n"
      ],
      "text/markdown": [
       "\n",
       "| mresvarc | mresvarf | mresvara |\n",
       "|---|---|---|\n",
       "| 0.004095749 | 0.002676191 | 0.004099153 |\n",
       "\n"
      ],
      "text/plain": [
       "     mresvarc    mresvarf    mresvara   \n",
       "[1,] 0.004095749 0.002676191 0.004099153"
      ]
     },
     "metadata": {},
     "output_type": "display_data"
    }
   ],
   "source": [
    "# Expected Returns Third Comparison\n",
    "retcomp3 <- cbind(mmean,mmed,mgmean,mcapm,mffc,mapt)\n",
    "retcomp3\n",
    "\n",
    "# Excess Returns Comparison\n",
    "eretcomp <- cbind(macapm,maffc,maapt)\n",
    "eretcomp\n",
    "\n",
    "# Residual Variance Comparison (Unsystematic Risk)\n",
    "resvarcomp <- cbind(mresvarc,mresvarf,mresvara)\n",
    "resvarcomp"
   ]
  },
  {
   "cell_type": "markdown",
   "metadata": {},
   "source": [
    "### Systematic Risk Hedge"
   ]
  },
  {
   "cell_type": "markdown",
   "metadata": {},
   "source": [
    "#### 1) Put Call Parity"
   ]
  },
  {
   "cell_type": "code",
   "execution_count": 13,
   "metadata": {},
   "outputs": [
    {
     "data": {
      "text/html": [
       "<table>\n",
       "<thead><tr><th></th><th scope=col>mstocks2</th><th scope=col>mparity</th></tr></thead>\n",
       "<tbody>\n",
       "\t<tr><th scope=row>Annualized Return</th><td>0.0729</td><td>0.0602</td></tr>\n",
       "\t<tr><th scope=row>Annualized Std Dev</th><td>0.1566</td><td>0.1345</td></tr>\n",
       "\t<tr><th scope=row>Annualized Sharpe (Rf=0%)</th><td>0.4652</td><td>0.4474</td></tr>\n",
       "</tbody>\n",
       "</table>\n"
      ],
      "text/latex": [
       "\\begin{tabular}{r|ll}\n",
       "  & mstocks2 & mparity\\\\\n",
       "\\hline\n",
       "\tAnnualized Return & 0.0729 & 0.0602\\\\\n",
       "\tAnnualized Std Dev & 0.1566 & 0.1345\\\\\n",
       "\tAnnualized Sharpe (Rf=0\\%) & 0.4652 & 0.4474\\\\\n",
       "\\end{tabular}\n"
      ],
      "text/markdown": [
       "\n",
       "| <!--/--> | mstocks2 | mparity |\n",
       "|---|---|---|\n",
       "| Annualized Return | 0.0729 | 0.0602 |\n",
       "| Annualized Std Dev | 0.1566 | 0.1345 |\n",
       "| Annualized Sharpe (Rf=0%) | 0.4652 | 0.4474 |\n",
       "\n"
      ],
      "text/plain": [
       "                          mstocks2 mparity\n",
       "Annualized Return         0.0729   0.0602 \n",
       "Annualized Std Dev        0.1566   0.1345 \n",
       "Annualized Sharpe (Rf=0%) 0.4652   0.4474 "
      ]
     },
     "metadata": {},
     "output_type": "display_data"
    },
    {
     "data": {
      "image/png": "[encoded data removed]",
      "text/plain": [
       "Plot with title \"mstocks2 Performance\""
      ]
     },
     "metadata": {},
     "output_type": "display_data"
    }
   ],
   "source": [
    "# CBOE BXM Index \n",
    "parity <- data[,25]\n",
    "mparity <- monthlyReturn(parity)\n",
    "colnames(mparity) <- \"mparity\"\n",
    "\n",
    "# Put Call Parity Comparison\n",
    "mstocks2 <- msprem+mrisk\n",
    "colnames(mstocks2) <- \"mstocks2\"\n",
    "paritycomp <- cbind(mstocks2, mparity)\n",
    "table.AnnualizedReturns(paritycomp)\n",
    "charts.PerformanceSummary(paritycomp)"
   ]
  },
  {
   "cell_type": "markdown",
   "metadata": {},
   "source": [
    "#### 2) Tail Risk Hedge "
   ]
  },
  {
   "cell_type": "code",
   "execution_count": 14,
   "metadata": {},
   "outputs": [
    {
     "data": {
      "text/html": [
       "<table>\n",
       "<thead><tr><th></th><th scope=col>mstocks2</th><th scope=col>mtail</th></tr></thead>\n",
       "<tbody>\n",
       "\t<tr><th scope=row>Annualized Return</th><td>0.0729</td><td>0.0577</td></tr>\n",
       "\t<tr><th scope=row>Annualized Std Dev</th><td>0.1566</td><td>0.1283</td></tr>\n",
       "\t<tr><th scope=row>Annualized Sharpe (Rf=0%)</th><td>0.4652</td><td>0.4494</td></tr>\n",
       "</tbody>\n",
       "</table>\n"
      ],
      "text/latex": [
       "\\begin{tabular}{r|ll}\n",
       "  & mstocks2 & mtail\\\\\n",
       "\\hline\n",
       "\tAnnualized Return & 0.0729 & 0.0577\\\\\n",
       "\tAnnualized Std Dev & 0.1566 & 0.1283\\\\\n",
       "\tAnnualized Sharpe (Rf=0\\%) & 0.4652 & 0.4494\\\\\n",
       "\\end{tabular}\n"
      ],
      "text/markdown": [
       "\n",
       "| <!--/--> | mstocks2 | mtail |\n",
       "|---|---|---|\n",
       "| Annualized Return | 0.0729 | 0.0577 |\n",
       "| Annualized Std Dev | 0.1566 | 0.1283 |\n",
       "| Annualized Sharpe (Rf=0%) | 0.4652 | 0.4494 |\n",
       "\n"
      ],
      "text/plain": [
       "                          mstocks2 mtail \n",
       "Annualized Return         0.0729   0.0577\n",
       "Annualized Std Dev        0.1566   0.1283\n",
       "Annualized Sharpe (Rf=0%) 0.4652   0.4494"
      ]
     },
     "metadata": {},
     "output_type": "display_data"
    },
    {
     "data": {
      "image/png": "[encoded data removed]",
      "text/plain": [
       "Plot with title \"mstocks2 Performance\""
      ]
     },
     "metadata": {},
     "output_type": "display_data"
    }
   ],
   "source": [
    "# CBOE VXTH Index \n",
    "tail <- data[,26]\n",
    "mtail <- monthlyReturn(tail)\n",
    "colnames(mtail) <- \"mtail\"\n",
    "\n",
    "# Tail Risk Comparison\n",
    "tailcomp <- cbind(mstocks2, mtail)\n",
    "table.AnnualizedReturns(tailcomp)\n",
    "charts.PerformanceSummary(tailcomp)"
   ]
  },
  {
   "cell_type": "code",
   "execution_count": 15,
   "metadata": {},
   "outputs": [
    {
     "data": {
      "text/html": [
       "<table>\n",
       "<thead><tr><th></th><th scope=col>mlstocks</th><th scope=col>mhedge</th></tr></thead>\n",
       "<tbody>\n",
       "\t<tr><th scope=row>Annualized Return</th><td>0.0656</td><td>0.0599</td></tr>\n",
       "\t<tr><th scope=row>Annualized Std Dev</th><td>0.1528</td><td>0.0503</td></tr>\n",
       "\t<tr><th scope=row>Annualized Sharpe (Rf=0%)</th><td>0.4293</td><td>1.1904</td></tr>\n",
       "</tbody>\n",
       "</table>\n"
      ],
      "text/latex": [
       "\\begin{tabular}{r|ll}\n",
       "  & mlstocks & mhedge\\\\\n",
       "\\hline\n",
       "\tAnnualized Return & 0.0656 & 0.0599\\\\\n",
       "\tAnnualized Std Dev & 0.1528 & 0.0503\\\\\n",
       "\tAnnualized Sharpe (Rf=0\\%) & 0.4293 & 1.1904\\\\\n",
       "\\end{tabular}\n"
      ],
      "text/markdown": [
       "\n",
       "| <!--/--> | mlstocks | mhedge |\n",
       "|---|---|---|\n",
       "| Annualized Return | 0.0656 | 0.0599 |\n",
       "| Annualized Std Dev | 0.1528 | 0.0503 |\n",
       "| Annualized Sharpe (Rf=0%) | 0.4293 | 1.1904 |\n",
       "\n"
      ],
      "text/plain": [
       "                          mlstocks mhedge\n",
       "Annualized Return         0.0656   0.0599\n",
       "Annualized Std Dev        0.1528   0.0503\n",
       "Annualized Sharpe (Rf=0%) 0.4293   1.1904"
      ]
     },
     "metadata": {},
     "output_type": "display_data"
    },
    {
     "data": {
      "image/png": "[encoded data removed]",
      "text/plain": [
       "Plot with title \"mlstocks Performance\""
      ]
     },
     "metadata": {},
     "output_type": "display_data"
    }
   ],
   "source": [
    "# Eureka Equal Weighted Hedge Fund Index\n",
    "\n",
    "hfr <- data[,27]\n",
    "mhedge <- hfr/100\n",
    "colnames(mhedge) <- \"mhedge\"\n",
    "\n",
    "# Hedge Funds Comparison\n",
    "hedgecomp <- cbind(mlstocks, mhedge)\n",
    "table.AnnualizedReturns(hedgecomp)\n",
    "charts.PerformanceSummary(hedgecomp)"
   ]
  },
  {
   "cell_type": "code",
   "execution_count": null,
   "metadata": {},
   "outputs": [],
   "source": []
  }
 ],
 "metadata": {
  "kernelspec": {
   "display_name": "R",
   "language": "R",
   "name": "ir"
  },
  "language_info": {
   "codemirror_mode": "r",
   "file_extension": ".r",
   "mimetype": "text/x-r-source",
   "name": "R",
   "pygments_lexer": "r",
   "version": "3.6.1"
  }
 },
 "nbformat": 4,
 "nbformat_minor": 4
}
